{
 "cells": [
  {
   "cell_type": "code",
   "execution_count": 7,
   "id": "744d2b39-1db6-4abf-9aba-fff0351e5f12",
   "metadata": {},
   "outputs": [
    {
     "name": "stdout",
     "output_type": "stream",
     "text": [
      "1.7.1+cu110\n",
      "4.10.2\n",
      "2.4\n"
     ]
    }
   ],
   "source": [
    "import torch\n",
    "import transformers\n",
    "from transformers import AutoModelWithLMHead, PreTrainedTokenizerFast\n",
    "from fastai.text.all import *\n",
    "import fastai\n",
    "import re\n",
    "\n",
    "print(torch.__version__)\n",
    "print(transformers.__version__)\n",
    "print( fastai.__version__)"
   ]
  },
  {
   "cell_type": "code",
   "execution_count": 8,
   "id": "f7cdf335",
   "metadata": {},
   "outputs": [
    {
     "name": "stderr",
     "output_type": "stream",
     "text": [
      "The tokenizer class you load from this checkpoint is not the same type as the class this function is called from. It may result in unexpected tokenization. \n",
      "The tokenizer class you load from this checkpoint is 'GPT2Tokenizer'. \n",
      "The class this function is called from is 'PreTrainedTokenizerFast'.\n"
     ]
    },
    {
     "name": "stdout",
     "output_type": "stream",
     "text": [
      "['▁안녕', '하', '세', '요.', '▁한국어', '▁G', 'P', 'T', '-2', '▁입', '니다.', '😤', ':)', 'l^o']\n",
      "위치추적 전자장치(전자발찌) 훼손 전후로 여성 2명을 잇달아 살해한 ᄋ씨(33)에 대해 구속영장을 신청했다.\n",
      "경찰에 따르면 ᄀ씨는 지난달 29일 오후 9시30분쯤 서울 강남구 논현동 자신의 집에서 ᄂ씨를 흉기로 찔러 숨지게 한 혐의를 받고 있다.\n",
      "ᄀ씨의 범행은 B씨가 “여자친구가 있다”며 경찰에 신고하면서 드러났다.\n",
      "B씨도 같은 날 오전 10시경 경찰서에 자진출석해 조사를 받았다.\n",
      "ᄂ씨와 함께 있던 ᄃ(31·여)은 이날 새벽 1시까지 조사에서 “내가 여자 친구와 사귀고 있어 괴롭다”고 진술했다.</d> 부산시는 오는 10월까지 '부산형\n"
     ]
    }
   ],
   "source": [
    "#download model and tokenizer\n",
    "tokenizer = PreTrainedTokenizerFast.from_pretrained(\"skt/kogpt2-base-v2\",\n",
    "  bos_token='</s>', eos_token='</s>', unk_token='<unk>',\n",
    "  pad_token='<pad>', mask_token='<mask>') \n",
    "model = AutoModelWithLMHead.from_pretrained(\"skt/kogpt2-base-v2\")\n",
    "\n",
    "#test tokenizer\n",
    "print(tokenizer.tokenize(\"안녕하세요. 한국어 GPT-2 입니다.😤:)l^o\"))\n",
    "\n",
    "#test model ouput\n",
    "text = \"\"\"위치추적 전자장치(전자발찌) 훼손 전후로 여성 2명을 잇달아 살해한 \"\"\"\n",
    "input_ids = tokenizer.encode(text)\n",
    "gen_ids = model.generate(torch.tensor([input_ids]),\n",
    "                           max_length=128,\n",
    "                           repetition_penalty=2.0,\n",
    "                           pad_token_id=tokenizer.pad_token_id,\n",
    "                           eos_token_id=tokenizer.eos_token_id,\n",
    "                           bos_token_id=tokenizer.bos_token_id,\n",
    "                           use_cache=True\n",
    "                        )\n",
    "generated = tokenizer.decode(gen_ids[0,:].tolist())\n",
    "print(generated)"
   ]
  },
  {
   "cell_type": "code",
   "execution_count": 9,
   "id": "f7cc350a-93fc-4dc0-82fc-08f314a700aa",
   "metadata": {},
   "outputs": [
    {
     "data": {
      "text/plain": [
       "2744438"
      ]
     },
     "execution_count": 9,
     "metadata": {},
     "output_type": "execute_result"
    }
   ],
   "source": [
    "with open('text_data.txt') as f:\n",
    "    lines = f.read()\n",
    "lines=\" \".join(lines.split())\n",
    "len(lines)"
   ]
  },
  {
   "cell_type": "code",
   "execution_count": 10,
   "id": "35292d3c",
   "metadata": {},
   "outputs": [
    {
     "data": {
      "text/plain": [
       "2422896"
      ]
     },
     "execution_count": 10,
     "metadata": {},
     "output_type": "execute_result"
    }
   ],
   "source": [
    "lines=re.sub('\\(계속\\).*?[●○]', '', lines)\n",
    "lines=re.sub('[●○]', '', lines)\n",
    "len(lines)"
   ]
  },
  {
   "cell_type": "code",
   "execution_count": 11,
   "id": "ceb9ef2e",
   "metadata": {},
   "outputs": [],
   "source": [
    "#model input output tokenizer\n",
    "class TransformersTokenizer(Transform):\n",
    "    def __init__(self, tokenizer): self.tokenizer = tokenizer\n",
    "    def encodes(self, x): \n",
    "        toks = self.tokenizer.tokenize(x)\n",
    "        return tensor(self.tokenizer.convert_tokens_to_ids(toks))\n",
    "    def decodes(self, x): return TitledStr(self.tokenizer.decode(x.cpu().numpy()))\n",
    "\n",
    "#split data\n",
    "train=lines[:int(len(lines)*0.9)]\n",
    "test=lines[int(len(lines)*0.9):]\n",
    "splits = [[0],[1]]\n",
    "\n",
    "#init dataloader\n",
    "tls = TfmdLists([train,test], TransformersTokenizer(tokenizer), splits=splits, dl_type=LMDataLoader)\n",
    "batch,seq_len = 8,256\n",
    "dls = tls.dataloaders(bs=batch, seq_len=seq_len)\n",
    "# dls.show_batch(max_n=2)"
   ]
  },
  {
   "cell_type": "code",
   "execution_count": 12,
   "id": "d34f1523",
   "metadata": {},
   "outputs": [
    {
     "data": {
      "text/html": [],
      "text/plain": [
       "<IPython.core.display.HTML object>"
      ]
     },
     "metadata": {},
     "output_type": "display_data"
    },
    {
     "name": "stdout",
     "output_type": "stream",
     "text": [
      "SuggestedLRs(valley=tensor(1.7378e-05))\n"
     ]
    },
    {
     "data": {
      "text/html": [
       "<table border=\"1\" class=\"dataframe\">\n",
       "  <thead>\n",
       "    <tr style=\"text-align: left;\">\n",
       "      <th>epoch</th>\n",
       "      <th>train_loss</th>\n",
       "      <th>valid_loss</th>\n",
       "      <th>perplexity</th>\n",
       "      <th>time</th>\n",
       "    </tr>\n",
       "  </thead>\n",
       "  <tbody>\n",
       "    <tr>\n",
       "      <td>0</td>\n",
       "      <td>3.534882</td>\n",
       "      <td>3.688004</td>\n",
       "      <td>39.964989</td>\n",
       "      <td>01:55</td>\n",
       "    </tr>\n",
       "    <tr>\n",
       "      <td>1</td>\n",
       "      <td>3.260040</td>\n",
       "      <td>3.587380</td>\n",
       "      <td>36.139263</td>\n",
       "      <td>01:55</td>\n",
       "    </tr>\n",
       "    <tr>\n",
       "      <td>2</td>\n",
       "      <td>3.086436</td>\n",
       "      <td>3.552240</td>\n",
       "      <td>34.891392</td>\n",
       "      <td>01:55</td>\n",
       "    </tr>\n",
       "    <tr>\n",
       "      <td>3</td>\n",
       "      <td>2.974506</td>\n",
       "      <td>3.527494</td>\n",
       "      <td>34.038567</td>\n",
       "      <td>01:55</td>\n",
       "    </tr>\n",
       "    <tr>\n",
       "      <td>4</td>\n",
       "      <td>2.925448</td>\n",
       "      <td>3.523227</td>\n",
       "      <td>33.893635</td>\n",
       "      <td>01:55</td>\n",
       "    </tr>\n",
       "  </tbody>\n",
       "</table>"
      ],
      "text/plain": [
       "<IPython.core.display.HTML object>"
      ]
     },
     "metadata": {},
     "output_type": "display_data"
    },
    {
     "data": {
      "image/png": "[encoded data removed]",
      "text/plain": [
       "<Figure size 432x288 with 1 Axes>"
      ]
     },
     "metadata": {
      "needs_background": "light"
     },
     "output_type": "display_data"
    }
   ],
   "source": [
    "#gpt2 ouput is tuple, we need just one val\n",
    "class DropOutput(Callback):\n",
    "    def after_pred(self): self.learn.pred = self.pred[0]\n",
    "        \n",
    "        \n",
    "learn = Learner(dls, model, loss_func=CrossEntropyLossFlat(), cbs=[DropOutput], metrics=Perplexity()).to_fp16()\n",
    "lr=learn.lr_find()\n",
    "print(lr)\n",
    "learn.fit_one_cycle(5, lr)\n",
    "# learn.fine_tune(3)"
   ]
  },
  {
   "cell_type": "code",
   "execution_count": 15,
   "id": "766f2b36",
   "metadata": {},
   "outputs": [
    {
     "data": {
      "text/plain": [
       "'위치추적 전자장치(전자발찌) 훼손 전후로 여성 2명을 잇달아 살해한 녀석이었다. “야, 조아영. 너 왜 그래?” “아니야...! 그건 니가 잘못했어...” 아영이에게 모욕당한 여자애들은, 그녀의 말을 듣고는 크게 놀라며 고개를 숙였다. “그럼 이제부터 어떻게 할 거냐고 물어봐도 돼요?” “어차피 우리 반 애들한테까지 다 들었으니까 얘기해 줄 수 있을 것 같네요.” 지은이는 말꼬리를 흐렸다. “이제부터는 내가 알아서 해라. 알았지? 그럼 내일 다시 만나자!” 예'"
      ]
     },
     "execution_count": 15,
     "metadata": {},
     "output_type": "execute_result"
    }
   ],
   "source": [
    "prompt=\"위치추적 전자장치(전자발찌) 훼손 전후로 여성 2명을 잇달아 살해한 \"\n",
    "prompt_ids = tokenizer.encode(prompt)\n",
    "inp = tensor(prompt_ids)[None].cuda()\n",
    "preds = learn.model.generate(inp,\n",
    "                           max_length=128,\n",
    "                           pad_token_id=tokenizer.pad_token_id,\n",
    "                           eos_token_id=tokenizer.eos_token_id,\n",
    "                           bos_token_id=tokenizer.bos_token_id,\n",
    "                           repetition_penalty=2.0,       \n",
    "                           use_cache=True\n",
    "                          ) \n",
    "tokenizer.decode(preds[0].cpu().numpy())\n",
    "\n"
   ]
  },
  {
   "cell_type": "code",
   "execution_count": null,
   "id": "e5aabc1b-2e8b-4a39-9758-d84f44a7fa0c",
   "metadata": {},
   "outputs": [],
   "source": [
    "learn.model.save_pretrained(\"kogpt2novel_backup\")\n",
    "model.push_to_hub(\"kogpt2novel\")\n",
    "tokenizer.push_to_hub(\"kogpt2novel\")"
   ]
  },
  {
   "cell_type": "code",
   "execution_count": null,
   "id": "0fd3a99b-93b7-43b4-8dd1-aa2855d295a1",
   "metadata": {},
   "outputs": [],
   "source": []
  }
 ],
 "metadata": {
  "kernelspec": {
   "display_name": "Python 3",
   "language": "python",
   "name": "python3"
  },
  "language_info": {
   "codemirror_mode": {
    "name": "ipython",
    "version": 3
   },
   "file_extension": ".py",
   "mimetype": "text/x-python",
   "name": "python",
   "nbconvert_exporter": "python",
   "pygments_lexer": "ipython3",
   "version": "3.6.13"
  }
 },
 "nbformat": 4,
 "nbformat_minor": 5
}
